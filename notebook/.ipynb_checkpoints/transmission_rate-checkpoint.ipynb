{
 "cells": [
  {
   "cell_type": "code",
   "execution_count": 70,
   "metadata": {},
   "outputs": [],
   "source": [
    "import pandas as pd\n",
    "import numpy as np"
   ]
  },
  {
   "cell_type": "markdown",
   "metadata": {},
   "source": [
    "*\"El número básico de reproducción ($R_0$), pretende ser un indicador del contagio o transmisibilidad de agentes infecciosos y parasitarios. $R_0$ se encuentra a menudo en la bibliografía de epidemiología y salud pública y también se puede encontrar en la prensa popular. $R_0$ se ha descrito como una de las métricas fundamentales y más utilizadas para el estudio de la dinámica de las enfermedades infecciosas. Un $R_0$ para un evento de enfermedad infecciosa generalmente se informa como un valor numérico único o rango bajo-alto, y la interpretación generalmente se presenta como directa; se espera que continúe un brote si $R_0$ tiene un valor $>1$  y que termine si $R_0$ es  $<1$ . El tamaño potencial de un brote o epidemia a menudo se basa en la magnitud del valor $R_0$ para ese evento, y $R_0$ puede usarse para estimar la proporción de la población que debe vacunarse para eliminar una infección de esa población\"* Tomado de: Delamater PL, Street EJ, Leslie TF, Yang Y, Jacobsen KH. Complexity of the Basic Reproduction Number ($R_0$). Emerg Infect Dis. 2019;25(1):1-4. https://dx.doi.org/10.3201/eid2501.171901"
   ]
  },
  {
   "cell_type": "code",
   "execution_count": 34,
   "metadata": {},
   "outputs": [],
   "source": [
    "with open('../src/data/COVID/minsalud_api') as url:\n",
    "    url = url.read()\n",
    "    data_coronavirus = pd.read_json(url)"
   ]
  },
  {
   "cell_type": "code",
   "execution_count": 47,
   "metadata": {},
   "outputs": [],
   "source": [
    "data_coronavirus.loc[data_coronavirus.loc[:, 'fis'] == 'Asintomatico', 'fis'] = data_coronavirus.loc[data_coronavirus.loc[:, 'fis'] == 'Asintomatico', 'fecha_de_notificaci_n']"
   ]
  },
  {
   "cell_type": "code",
   "execution_count": 49,
   "metadata": {},
   "outputs": [],
   "source": [
    "for campo in ['fecha_de_notificaci_n', 'fis', 'fecha_diagnostico', 'fecha_recuperado', 'fecha_reporte_web', 'fecha_de_muerte']:\n",
    "    data_coronavirus.loc[:, campo] = pd.to_datetime(data_coronavirus.loc[:, campo], errors = 'coerce')"
   ]
  },
  {
   "cell_type": "code",
   "execution_count": 53,
   "metadata": {},
   "outputs": [],
   "source": [
    "data_coronavirus.sort_values('fis').reset_index(drop = True, inplace = True)"
   ]
  },
  {
   "cell_type": "code",
   "execution_count": 64,
   "metadata": {},
   "outputs": [],
   "source": [
    "new_name = ['Bogota', 'Valle del Cauca', 'Antioquia', 'Bolivar', 'Huila', 'Meta', 'Risaralda', 'Norte de Santander', 'Caldas', 'Cundinamarca', 'Atlantico', 'Santander', 'Quindio', 'Tolima', 'Cauca', 'Magdalena', 'Cesar', 'San Andres y Providencia', 'Casanare', 'Nariño', 'Atlantico', 'Boyaca', 'Cordoba', 'Bolivar', 'Sucre', 'Magdalena', 'La Guajira', 'Valle del Cauca', 'Choco', 'Amazonas', 'Caqueta', 'Putumayo', 'Arauca', 'Vaupes', 'Guainia', 'Vichada', 'Guaviare']\n",
    "old_name = ['Bogotá D.C.', 'Valle del Cauca', 'Antioquia', 'Cartagena D.T. y C.', 'Huila', 'Meta', 'Risaralda', 'Norte de Santander', 'Caldas', 'Cundinamarca', 'Barranquilla D.E.', 'Santander', 'Quindío', 'Tolima', 'Cauca', 'Santa Marta D.T. y C.', 'Cesar', 'Archipiélago de San Andrés Providencia y Santa Catalina', 'Casanare', 'Nariño', 'Atlántico', 'Boyacá', 'Córdoba', 'Bolívar', 'Sucre', 'Magdalena', 'La Guajira', 'Buenaventura D.E.', 'Chocó', 'Amazonas', 'Caquetá', 'Putumayo', 'Arauca', 'Vaupés', 'Guainía', 'Vichada', 'Guaviare']"
   ]
  },
  {
   "cell_type": "code",
   "execution_count": 65,
   "metadata": {},
   "outputs": [],
   "source": [
    "data_coronavirus.departamento = data_coronavirus.departamento.replace(dict(zip(old_name, new_name)))"
   ]
  },
  {
   "cell_type": "code",
   "execution_count": 67,
   "metadata": {},
   "outputs": [],
   "source": [
    "for campo in ['id_de_caso', 'c_digo_divipola', 'ciudad_de_ubicaci_n', 'departamento', 'atenci_n', 'edad', 'sexo', 'tipo', 'estado', 'pa_s_de_procedencia', 'tipo_recuperaci_n', 'codigo_departamento', 'codigo_pais']:\n",
    "    try:data_coronavirus.loc[:, campo] = pd.to_numeric(data_coronavirus.loc[:, campo])\n",
    "    except:data_coronavirus.loc[:, campo] = data_coronavirus.loc[:, campo].astype(str)"
   ]
  },
  {
   "cell_type": "code",
   "execution_count": 72,
   "metadata": {},
   "outputs": [],
   "source": [
    "data_meteo = pd.DataFrame(columns = data_coronavirus.departamento.unique())"
   ]
  },
  {
   "cell_type": "code",
   "execution_count": 133,
   "metadata": {},
   "outputs": [],
   "source": [
    "for departamento in data_coronavirus.departamento.unique()[:3]:\n",
    "    data_coronavirus[data_coronavirus.departamento == departamento]"
   ]
  },
  {
   "cell_type": "code",
   "execution_count": 135,
   "metadata": {},
   "outputs": [],
   "source": [
    "data_departamento = data_coronavirus[(data_coronavirus.departamento == departamento)&(data_coronavirus['tipo'] != 'Importado')].sort_values('fis')\n",
    "\n",
    "infected = data_departamento.groupby('fis').count().id_de_caso\n",
    "infected.name = 'infected'\n",
    "deaths = data_departamento.groupby('fecha_de_muerte').count().id_de_caso\n",
    "deaths.name = 'deaths'\n",
    "recovered = data_departamento.groupby('fecha_recuperado').count().id_de_caso\n",
    "recovered.name = 'recovered'"
   ]
  },
  {
   "cell_type": "code",
   "execution_count": 137,
   "metadata": {},
   "outputs": [
    {
     "data": {
      "text/plain": [
       "'Antioquia'"
      ]
     },
     "execution_count": 137,
     "metadata": {},
     "output_type": "execute_result"
    }
   ],
   "source": [
    "departamento"
   ]
  },
  {
   "cell_type": "code",
   "execution_count": 142,
   "metadata": {},
   "outputs": [
    {
     "data": {
      "text/plain": [
       "<matplotlib.lines.Line2D at 0x2fb5f68aa88>"
      ]
     },
     "execution_count": 142,
     "metadata": {},
     "output_type": "execute_result"
    },
    {
     "data": {
      "image/png": "[encoded data removed]",
      "text/plain": [
       "<Figure size 432x288 with 1 Axes>"
      ]
     },
     "metadata": {
      "needs_background": "light"
     },
     "output_type": "display_data"
    }
   ],
   "source": [
    "def rt(infected, recovered, deaths, transmission_period_days = 14, mean_window = 1):\n",
    "    \n",
    "    cases = pd.concat([infected, recovered, deaths], axis = 1)\n",
    "    cases = cases.reindex(pd.date_range(cases.index.min(), )).fillna(0).cumsum()\n",
    "    I = cases.infected - cases.recovered - cases.deaths\n",
    "    return ((I.apply(lambda x: np.log(x)).diff()) * transmission_period_days + 1).rolling(mean_window).mean()\n",
    "\n",
    "ax = rt(infected, recovered, deaths, mean_window=3).plot()\n",
    "ax.axhline(1, color = 'k')"
   ]
  },
  {
   "cell_type": "code",
   "execution_count": null,
   "metadata": {},
   "outputs": [],
   "source": []
  },
  {
   "cell_type": "markdown",
   "metadata": {},
   "source": [
    "Metodología de Cálculo de  Rt  instantaneo\n",
    "Suponga que  $D(t),R(t),F(t)∈Z+$  es el reporte diario de infectados, recuperados y fallecidos. Ahora tomando el valor acumulado del número de casos hasta el día  t  es:  $I(t)=∑^t_{k=0} D(k)−∑^t_{k=0} R(k)−∑^t_{k=0}F(k)$\n",
    "\n",
    "El valor de  Rt  instantaneo se obtiene como la estimación de la razón de cambio del logaritmo natural de  I(t)  multiplicada por la duración estimada del periodo de transmisión de la infección (Covid19 8 días)  γ=8 \n",
    "\n",
    "$$Rt=[logI(t)−logI(t−1)]γ+1 $$\n",
    "\n",
    "El cálculo del  Rt  suavizado es una media móvil calculada sobre 3 puntos:  $\\bar{R}_t=\\frac{R_t+R_{t−1}+R_{t−2}}{3}$"
   ]
  },
  {
   "cell_type": "code",
   "execution_count": null,
   "metadata": {},
   "outputs": [],
   "source": [
    "        df = select_department_tipo.groupby(by='fis').count()\n",
    "        df_array = df.to_numpy()\n",
    "        NI_infected_cases = df_array[:,0]\n",
    "        Total_NI_infected_cases = np.cumsum(NI_infected_cases,0)\n",
    "        time_vector = pd.to_datetime(df.index)\n",
    "        #time_vector = datetime(df.index.to_numpy()).fromisoformat()\n",
    "        tv = (time_vector-time_vector[0])\n",
    "        cumulcases = Total_NI_infected_cases-Total_NI_infected_cases[0]+1\n",
    "\n",
    "        Rtraw = 14.0*np.diff(np.log(cumulcases))+1\n",
    "        Rfilt = sgnl.filtfilt([0.3333, 0.3333, 0.3333],[1.0],Rtraw)\n",
    "\n",
    "\n",
    "        rt.loc[time_vector.date[1:], Departamento] = Rtraw\n",
    "        rt_s.loc[time_vector.date[1:], Departamento] = Rfilt"
   ]
  },
  {
   "cell_type": "code",
   "execution_count": 71,
   "metadata": {},
   "outputs": [],
   "source": []
  },
  {
   "cell_type": "code",
   "execution_count": null,
   "metadata": {},
   "outputs": [],
   "source": []
  },
  {
   "cell_type": "code",
   "execution_count": null,
   "metadata": {},
   "outputs": [],
   "source": []
  },
  {
   "cell_type": "code",
   "execution_count": null,
   "metadata": {},
   "outputs": [],
   "source": [
    "for Departamento in data.departamento.unique():\n",
    "    try:\n",
    "        now = datetime.datetime.now()\n",
    "\n",
    "        if Departamento == 'Colombia':\n",
    "          print('En Colombia hay: ')\n",
    "          select_department = data\n",
    "          select_department_tipo_Imp = data.loc[(data['tipo']=='Importado')]\n",
    "          select_department_tipo = data.loc[(data['tipo']!='Importado')]\n",
    "          select_department_fallec = data.loc[(data['atenci_n'] =='Fallecido')]\n",
    "          select_department_recup = data.loc[(data['atenci_n'] =='Recuperado')]\n",
    "          select_department_hospit = data.loc[(data['atenci_n'] =='Hospital')]\n",
    "          select_department_UCI = data.loc[(data['atenci_n'] =='Hospital UCI')]\n",
    "          select_department_En_Casa = data.loc[(data['atenci_n'] =='Casa')]\n",
    "        else:\n",
    "          select_department = data.loc[data['departamento'] == Departamento]\n",
    "          select_department_tipo_Imp = data.loc[(data['departamento'] == Departamento) & (data['tipo']=='Importado')]\n",
    "          select_department_tipo = data.loc[(data['departamento'] == Departamento) & (data['tipo']!='Importado')]\n",
    "          select_department_fallec = data.loc[(data['departamento'] == Departamento) & (data['atenci_n'] =='Fallecido')]\n",
    "          select_department_recup = data.loc[(data['departamento'] == Departamento) & (data['atenci_n'] =='Recuperado')]\n",
    "          select_department_hospit = data.loc[(data['departamento'] == Departamento) & (data['atenci_n'] =='Hospital')]\n",
    "          select_department_UCI = data.loc[(data['departamento'] == Departamento) & (data['atenci_n'] =='Hospital UCI')]\n",
    "          select_department_En_Casa = data.loc[(data['departamento'] == Departamento) & (data['atenci_n'] =='Casa')]\n",
    "          print('En departamento de ' + Departamento + ' hay: ')\n",
    "\n",
    "        dates_diaf = data.loc[(data['fis'] =='Asintomático')].to_numpy()\n",
    "        if dates_diaf.size>0 :\n",
    "          data.loc[(data['fis'] =='Asintomático'),['fis']] = dates_diaf[:,1]\n",
    "          data.fis = pd.to_datetime(data.fis)\n",
    "\n",
    "        df = select_department_tipo.groupby(by='fis').count()\n",
    "        df_array = df.to_numpy()\n",
    "        NI_infected_cases = df_array[:,0]\n",
    "        Total_NI_infected_cases = np.cumsum(NI_infected_cases,0)\n",
    "        time_vector = pd.to_datetime(df.index)\n",
    "        #time_vector = datetime(df.index.to_numpy()).fromisoformat()\n",
    "        tv = (time_vector-time_vector[0])\n",
    "        cumulcases = Total_NI_infected_cases-Total_NI_infected_cases[0]+1\n",
    "\n",
    "        Rtraw = 14.0*np.diff(np.log(cumulcases))+1\n",
    "        Rfilt = sgnl.filtfilt([0.3333, 0.3333, 0.3333],[1.0],Rtraw)\n",
    "\n",
    "\n",
    "        rt.loc[time_vector.date[1:], Departamento] = Rtraw\n",
    "        rt_s.loc[time_vector.date[1:], Departamento] = Rfilt\n",
    "\n",
    "    except:pass"
   ]
  },
  {
   "cell_type": "code",
   "execution_count": 7,
   "metadata": {},
   "outputs": [],
   "source": []
  }
 ],
 "metadata": {
  "kernelspec": {
   "display_name": "Python 3.7.7 64-bit",
   "language": "python",
   "name": "python37764bit783257d7ce1c449e9073c7d11d1f458d"
  },
  "language_info": {
   "codemirror_mode": {
    "name": "ipython",
    "version": 3
   },
   "file_extension": ".py",
   "mimetype": "text/x-python",
   "name": "python",
   "nbconvert_exporter": "python",
   "pygments_lexer": "ipython3",
   "version": "3.7.7"
  }
 },
 "nbformat": 4,
 "nbformat_minor": 4
}
