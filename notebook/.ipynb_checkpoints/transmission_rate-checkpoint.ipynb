{
 "cells": [
  {
   "cell_type": "code",
   "execution_count": 1,
   "metadata": {},
   "outputs": [],
   "source": [
    "import pandas as pd\n",
    "import numpy as np"
   ]
  },
  {
   "cell_type": "markdown",
   "metadata": {},
   "source": [
    "*\"El número básico de reproducción ($R_0$), pretende ser un indicador del contagio o transmisibilidad de agentes infecciosos y parasitarios. $R_0$ se encuentra a menudo en la bibliografía de epidemiología y salud pública y también se puede encontrar en la prensa popular. $R_0$ se ha descrito como una de las métricas fundamentales y más utilizadas para el estudio de la dinámica de las enfermedades infecciosas. Un $R_0$ para un evento de enfermedad infecciosa generalmente se informa como un valor numérico único o rango bajo-alto, y la interpretación generalmente se presenta como directa; se espera que continúe un brote si $R_0$ tiene un valor $>1$  y que termine si $R_0$ es  $<1$ . El tamaño potencial de un brote o epidemia a menudo se basa en la magnitud del valor $R_0$ para ese evento, y $R_0$ puede usarse para estimar la proporción de la población que debe vacunarse para eliminar una infección de esa población\"* Tomado de: Delamater PL, Street EJ, Leslie TF, Yang Y, Jacobsen KH. Complexity of the Basic Reproduction Number ($R_0$). Emerg Infect Dis. 2019;25(1):1-4. https://dx.doi.org/10.3201/eid2501.171901"
   ]
  },
  {
   "cell_type": "code",
   "execution_count": 29,
   "metadata": {},
   "outputs": [],
   "source": [
    "with open('../src/data/COVID/minsalud_api') as url:\n",
    "    url = url.read()\n",
    "    data_coronavirus = pd.read_json(url)"
   ]
  },
  {
   "cell_type": "code",
   "execution_count": 36,
   "metadata": {},
   "outputs": [],
   "source": [
    "data_coronavirus.loc[data_coronavirus.loc[:, 'fis'] == 'Asintomatico', 'fis'] = data_coronavirus.loc[data_coronavirus.loc[:, 'fis'] == 'Asintomatico', 'fecha_de_notificaci_n']"
   ]
  },
  {
   "cell_type": "code",
   "execution_count": 37,
   "metadata": {},
   "outputs": [],
   "source": [
    "for campo in ['fecha_de_notificaci_n', 'fis', 'fecha_diagnostico', 'fecha_recuperado', 'fecha_reporte_web', 'fecha_de_muerte']:\n",
    "    data_coronavirus.loc[:, campo] = pd.to_datetime(data_coronavirus.loc[:, campo], errors = 'coerce')"
   ]
  },
  {
   "cell_type": "code",
   "execution_count": 38,
   "metadata": {},
   "outputs": [],
   "source": [
    "data_coronavirus.sort_values('fis').reset_index(drop = True, inplace = True)"
   ]
  },
  {
   "cell_type": "code",
   "execution_count": 39,
   "metadata": {},
   "outputs": [],
   "source": [
    "new_name = ['Bogota', 'Valle del Cauca', 'Antioquia', 'Bolivar', 'Huila', 'Meta', 'Risaralda', 'Norte de Santander', 'Caldas', 'Cundinamarca', 'Atlantico', 'Santander', 'Quindio', 'Tolima', 'Cauca', 'Magdalena', 'Cesar', 'San Andres y Providencia', 'Casanare', 'Nariño', 'Atlantico', 'Boyaca', 'Cordoba', 'Bolivar', 'Sucre', 'Magdalena', 'La Guajira', 'Valle del Cauca', 'Choco', 'Amazonas', 'Caqueta', 'Putumayo', 'Arauca', 'Vaupes', 'Guainia', 'Vichada', 'Guaviare']\n",
    "old_name = ['Bogotá D.C.', 'Valle del Cauca', 'Antioquia', 'Cartagena D.T. y C.', 'Huila', 'Meta', 'Risaralda', 'Norte de Santander', 'Caldas', 'Cundinamarca', 'Barranquilla D.E.', 'Santander', 'Quindío', 'Tolima', 'Cauca', 'Santa Marta D.T. y C.', 'Cesar', 'Archipiélago de San Andrés Providencia y Santa Catalina', 'Casanare', 'Nariño', 'Atlántico', 'Boyacá', 'Córdoba', 'Bolívar', 'Sucre', 'Magdalena', 'La Guajira', 'Buenaventura D.E.', 'Chocó', 'Amazonas', 'Caquetá', 'Putumayo', 'Arauca', 'Vaupés', 'Guainía', 'Vichada', 'Guaviare']"
   ]
  },
  {
   "cell_type": "code",
   "execution_count": 40,
   "metadata": {},
   "outputs": [],
   "source": [
    "data_coronavirus.departamento = data_coronavirus.departamento.replace(dict(zip(old_name, new_name)))"
   ]
  },
  {
   "cell_type": "code",
   "execution_count": 41,
   "metadata": {},
   "outputs": [],
   "source": [
    "for campo in ['id_de_caso', 'c_digo_divipola', 'ciudad_de_ubicaci_n', 'departamento', 'atenci_n', 'edad', 'sexo', 'tipo', 'estado', 'pa_s_de_procedencia', 'tipo_recuperaci_n', 'codigo_departamento', 'codigo_pais']:\n",
    "    try:data_coronavirus.loc[:, campo] = pd.to_numeric(data_coronavirus.loc[:, campo])\n",
    "    except:data_coronavirus.loc[:, campo] = data_coronavirus.loc[:, campo].astype(str)"
   ]
  },
  {
   "cell_type": "code",
   "execution_count": 42,
   "metadata": {},
   "outputs": [],
   "source": [
    "data_meteo = pd.DataFrame(columns = data_coronavirus.departamento.unique())"
   ]
  },
  {
   "cell_type": "code",
   "execution_count": 43,
   "metadata": {},
   "outputs": [],
   "source": [
    "for departamento in data_coronavirus.departamento.unique()[:3]:\n",
    "    data_coronavirus[data_coronavirus.departamento == departamento]"
   ]
  },
  {
   "cell_type": "markdown",
   "metadata": {},
   "source": [
    "Metodología de Cálculo de  Rt  instantaneo\n",
    "Suponga que  $D(t),R(t),F(t)∈Z+$  es el reporte diario de infectados, recuperados y fallecidos. Ahora tomando el valor acumulado del número de casos hasta el día  t  es:  $I(t)=∑^t_{k=0} D(k)−∑^t_{k=0} R(k)−∑^t_{k=0}F(k)$\n",
    "\n",
    "El valor de  Rt  instantaneo se obtiene como la estimación de la razón de cambio del logaritmo natural de  I(t)  multiplicada por la duración estimada del periodo de transmisión de la infección (Covid19 8 días)  γ=8 \n",
    "\n",
    "$$Rt=[logI(t)−logI(t−1)]γ+1 $$\n",
    "\n",
    "El cálculo del  Rt  suavizado es una media móvil calculada sobre 3 puntos:  $\\bar{R}_t=\\frac{R_t+R_{t−1}+R_{t−2}}{3}$"
   ]
  },
  {
   "cell_type": "code",
   "execution_count": 44,
   "metadata": {},
   "outputs": [],
   "source": [
    "def rt(infected, recovered, deaths, transmission_period_days = 14, mean_window = 1):\n",
    "    \n",
    "    cases = pd.concat([infected, recovered, deaths], axis = 1)\n",
    "    cases = cases.fillna(0).cumsum()\n",
    "    cases.loc[:, 'infected'] = cases.loc[:, 'infected'] - cases.loc[cases.index.min(), 'infected'] + 1\n",
    "    I = cases.infected - cases.recovered - cases.deaths\n",
    "    return (((I.apply(lambda x: np.log(x)).diff()) * transmission_period_days) + 1).rolling(mean_window, center = True).mean()"
   ]
  },
  {
   "cell_type": "code",
   "execution_count": 57,
   "metadata": {},
   "outputs": [],
   "source": [
    "transmission_rate = pd.DataFrame(columns = data_coronavirus.departamento.values, index = pd.date_range(data_coronavirus.fis.min(), data_coronavirus.fis.max(), freq = 'd'))\n",
    "transmission_rate_s = pd.DataFrame(columns = data_coronavirus.departamento.values, index = pd.date_range(data_coronavirus.fis.min(), data_coronavirus.fis.max(), freq = 'd'))"
   ]
  },
  {
   "cell_type": "code",
   "execution_count": 58,
   "metadata": {},
   "outputs": [],
   "source": [
    "for departamento in data_coronavirus.departamento.unique():\n",
    "    \n",
    "    data_departamento = data_coronavirus[(data_coronavirus.departamento == departamento)&(data_coronavirus['tipo'] != 'Importado')].sort_values('fis')\n",
    "    infected = data_departamento.groupby('fis').count().id_de_caso\n",
    "    infected.name = 'infected'\n",
    "    deaths = data_departamento.groupby('fecha_de_muerte').count().id_de_caso\n",
    "    deaths.name = 'deaths'\n",
    "    recovered = data_departamento.groupby('fecha_recuperado').count().id_de_caso\n",
    "    recovered.name = 'recovered'\n",
    "    ro = rt(infected, recovered, deaths, mean_window= 1)\n",
    "    ro_s = rt(infected, recovered, deaths, mean_window= 3)\n",
    "    \n",
    "    idx_ro = ro.index.intersection(transmission_rate.index)\n",
    "    idx_ro_s = ro.index.intersection(transmission_rate_s.index)\n",
    "        \n",
    "    transmission_rate.loc[idx_ro, departamento] = ro.loc[idx_ro]\n",
    "    transmission_rate_s.loc[idx_ro_s, departamento] = ro_s.loc[idx_ro_s]\n",
    "    \n",
    "transmission_rate = transmission_rate.astype(float)\n",
    "transmission_rate_s = transmission_rate_s.astype(float)"
   ]
  },
  {
   "cell_type": "code",
   "execution_count": 54,
   "metadata": {},
   "outputs": [],
   "source": [
    "import seaborn as sns"
   ]
  },
  {
   "cell_type": "code",
   "execution_count": 61,
   "metadata": {},
   "outputs": [
    {
     "data": {
      "text/html": [
       "<div>\n",
       "<style scoped>\n",
       "    .dataframe tbody tr th:only-of-type {\n",
       "        vertical-align: middle;\n",
       "    }\n",
       "\n",
       "    .dataframe tbody tr th {\n",
       "        vertical-align: top;\n",
       "    }\n",
       "\n",
       "    .dataframe thead th {\n",
       "        text-align: right;\n",
       "    }\n",
       "</style>\n",
       "<table border=\"1\" class=\"dataframe\">\n",
       "  <thead>\n",
       "    <tr style=\"text-align: right;\">\n",
       "      <th></th>\n",
       "      <th>date</th>\n",
       "      <th>variable</th>\n",
       "      <th>value</th>\n",
       "    </tr>\n",
       "  </thead>\n",
       "  <tbody>\n",
       "    <tr>\n",
       "      <th>6</th>\n",
       "      <td>2020-03-04</td>\n",
       "      <td>Bogota</td>\n",
       "      <td>10.704061</td>\n",
       "    </tr>\n",
       "    <tr>\n",
       "      <th>7</th>\n",
       "      <td>2020-03-05</td>\n",
       "      <td>Bogota</td>\n",
       "      <td>16.380572</td>\n",
       "    </tr>\n",
       "    <tr>\n",
       "      <th>8</th>\n",
       "      <td>2020-03-06</td>\n",
       "      <td>Bogota</td>\n",
       "      <td>6.676512</td>\n",
       "    </tr>\n",
       "    <tr>\n",
       "      <th>9</th>\n",
       "      <td>2020-03-07</td>\n",
       "      <td>Bogota</td>\n",
       "      <td>6.148147</td>\n",
       "    </tr>\n",
       "    <tr>\n",
       "      <th>10</th>\n",
       "      <td>2020-03-08</td>\n",
       "      <td>Bogota</td>\n",
       "      <td>3.003412</td>\n",
       "    </tr>\n",
       "    <tr>\n",
       "      <th>...</th>\n",
       "      <td>...</td>\n",
       "      <td>...</td>\n",
       "      <td>...</td>\n",
       "    </tr>\n",
       "    <tr>\n",
       "      <th>5501403</th>\n",
       "      <td>2020-06-05</td>\n",
       "      <td>La Guajira</td>\n",
       "      <td>0.804193</td>\n",
       "    </tr>\n",
       "    <tr>\n",
       "      <th>5501404</th>\n",
       "      <td>2020-06-06</td>\n",
       "      <td>La Guajira</td>\n",
       "      <td>1.579393</td>\n",
       "    </tr>\n",
       "    <tr>\n",
       "      <th>5501405</th>\n",
       "      <td>2020-06-07</td>\n",
       "      <td>La Guajira</td>\n",
       "      <td>0.809521</td>\n",
       "    </tr>\n",
       "    <tr>\n",
       "      <th>5501406</th>\n",
       "      <td>2020-06-08</td>\n",
       "      <td>La Guajira</td>\n",
       "      <td>0.412501</td>\n",
       "    </tr>\n",
       "    <tr>\n",
       "      <th>5501407</th>\n",
       "      <td>2020-06-09</td>\n",
       "      <td>La Guajira</td>\n",
       "      <td>1.198585</td>\n",
       "    </tr>\n",
       "  </tbody>\n",
       "</table>\n",
       "<p>4819567 rows × 3 columns</p>\n",
       "</div>"
      ],
      "text/plain": [
       "              date    variable      value\n",
       "6       2020-03-04      Bogota  10.704061\n",
       "7       2020-03-05      Bogota  16.380572\n",
       "8       2020-03-06      Bogota   6.676512\n",
       "9       2020-03-07      Bogota   6.148147\n",
       "10      2020-03-08      Bogota   3.003412\n",
       "...            ...         ...        ...\n",
       "5501403 2020-06-05  La Guajira   0.804193\n",
       "5501404 2020-06-06  La Guajira   1.579393\n",
       "5501405 2020-06-07  La Guajira   0.809521\n",
       "5501406 2020-06-08  La Guajira   0.412501\n",
       "5501407 2020-06-09  La Guajira   1.198585\n",
       "\n",
       "[4819567 rows x 3 columns]"
      ]
     },
     "execution_count": 61,
     "metadata": {},
     "output_type": "execute_result"
    }
   ],
   "source": [
    "pd.melt(transmission_rate.reset_index(), ['index']).rename(columns = {'index':'date'}).dropna()"
   ]
  },
  {
   "cell_type": "code",
   "execution_count": 62,
   "metadata": {},
   "outputs": [
    {
     "data": {
      "text/plain": [
       "<matplotlib.axes._subplots.AxesSubplot at 0x1b047344688>"
      ]
     },
     "execution_count": 62,
     "metadata": {},
     "output_type": "execute_result"
    },
    {
     "data": {
      "image/png": "[encoded data removed]",
      "text/plain": [
       "<Figure size 432x288 with 1 Axes>"
      ]
     },
     "metadata": {
      "needs_background": "light"
     },
     "output_type": "display_data"
    }
   ],
   "source": [
    "sns.lineplot(x = 'date', y = 'value', data = pd.melt(transmission_rate.reset_index(), ['index']).rename(columns = {'index':'date'}).dropna())"
   ]
  },
  {
   "cell_type": "code",
   "execution_count": null,
   "metadata": {},
   "outputs": [],
   "source": [
    "sns.lineplot(x = 'date', y = 'value', data = pd.melt(transmission_rate_s.reset_index(), ['index']).rename(columns = {'index':'date'}).dropna())"
   ]
  },
  {
   "cell_type": "code",
   "execution_count": null,
   "metadata": {},
   "outputs": [],
   "source": [
    "transmission_rate.to_csv('../src/data/series/transmission_rate.csv')\n",
    "transmission_rate_s.to_csv('../src/data/series/transmission_rate_S.csv')"
   ]
  },
  {
   "cell_type": "markdown",
   "metadata": {},
   "source": [
    "# comparacion profe unal"
   ]
  },
  {
   "cell_type": "code",
   "execution_count": 301,
   "metadata": {},
   "outputs": [],
   "source": [
    "data = data_coronavirus.copy()"
   ]
  },
  {
   "cell_type": "code",
   "execution_count": 302,
   "metadata": {},
   "outputs": [],
   "source": [
    "rt = pd.DataFrame(index = pd.date_range('2020-03', '2020-06-06', freq = '1d'), columns = data.departamento.unique())\n",
    "rt_s = pd.DataFrame(index = pd.date_range('2020-03', '2020-06-06', freq = '1d'), columns = data.departamento.unique())"
   ]
  },
  {
   "cell_type": "code",
   "execution_count": 306,
   "metadata": {},
   "outputs": [],
   "source": [
    "with open('../src/data/COVID/minsalud_api') as url:\n",
    "    url = url.read()\n",
    "    data_coronavirus = pd.read_json(url)"
   ]
  },
  {
   "cell_type": "code",
   "execution_count": 314,
   "metadata": {},
   "outputs": [],
   "source": [
    "data = data_coronavirus"
   ]
  },
  {
   "cell_type": "code",
   "execution_count": 322,
   "metadata": {},
   "outputs": [],
   "source": [
    "Departamento = data.departamento[0]"
   ]
  },
  {
   "cell_type": "code",
   "execution_count": 324,
   "metadata": {
    "scrolled": false
   },
   "outputs": [
    {
     "name": "stdout",
     "output_type": "stream",
     "text": [
      "Fecha y hora del Reporte : \n",
      "2020-06-15 15:06:30 UTC\n",
      "En departamento de Bogotá D.C. hay: \n",
      "Casos Positivos = 16037\n",
      "Casos Importados  = 363\n",
      "Casos Relacionados/en Estudio  = 15674\n",
      "Recuperados = 6828\n",
      "En Casa = 7745\n",
      "Hospitalizados = 905\n",
      "Hospitalizados/UCI = 154\n",
      "Fallecidos = 382\n",
      "\n"
     ]
    },
    {
     "data": {
      "image/png": "[encoded data removed]",
      "text/plain": [
       "<Figure size 432x288 with 1 Axes>"
      ]
     },
     "metadata": {},
     "output_type": "display_data"
    },
    {
     "name": "stdout",
     "output_type": "stream",
     "text": [
      "Reporte diario de contagio basado en fecha de inicio de síntomas\n"
     ]
    },
    {
     "data": {
      "image/png": "[encoded data removed]",
      "text/plain": [
       "<Figure size 720x288 with 1 Axes>"
      ]
     },
     "metadata": {
      "needs_background": "light"
     },
     "output_type": "display_data"
    },
    {
     "name": "stdout",
     "output_type": "stream",
     "text": [
      "Curva acumulada de contagios\n"
     ]
    },
    {
     "data": {
      "image/png": "[encoded data removed]",
      "text/plain": [
       "<Figure size 720x288 with 1 Axes>"
      ]
     },
     "metadata": {
      "needs_background": "light"
     },
     "output_type": "display_data"
    },
    {
     "data": {
      "image/png": "[encoded data removed]",
      "text/plain": [
       "<Figure size 720x288 with 1 Axes>"
      ]
     },
     "metadata": {
      "needs_background": "light"
     },
     "output_type": "display_data"
    },
    {
     "name": "stdout",
     "output_type": "stream",
     "text": [
      "Visualización del R_t tasa de contagio\n"
     ]
    },
    {
     "data": {
      "image/png": "[encoded data removed]",
      "text/plain": [
       "<Figure size 720x288 with 1 Axes>"
      ]
     },
     "metadata": {
      "needs_background": "light"
     },
     "output_type": "display_data"
    }
   ],
   "source": [
    "now = datetime.datetime.now()\n",
    "print('Fecha y hora del Reporte : ')\n",
    "print(now.strftime('%Y-%m-%d %H:%M:%S')+' UTC')\n",
    "\n",
    "if Departamento == 'Colombia':\n",
    "  print('En Colombia hay: ')\n",
    "  select_department = data\n",
    "  select_department_tipo_Imp = data.loc[(data['tipo']=='Importado')]\n",
    "  select_department_tipo = data.loc[(data['tipo']!='Importado')]\n",
    "  select_department_fallec = data.loc[(data['atenci_n'] =='Fallecido')]\n",
    "  select_department_recup = data.loc[(data['atenci_n'] =='Recuperado')]\n",
    "  select_department_hospit = data.loc[(data['atenci_n'] =='Hospital')]\n",
    "  select_department_UCI = data.loc[(data['atenci_n'] =='Hospital UCI')]\n",
    "  select_department_En_Casa = data.loc[(data['atenci_n'] =='Casa')]\n",
    "else:\n",
    "  select_department = data.loc[data['departamento'] == Departamento]\n",
    "  select_department_tipo_Imp = data.loc[(data['departamento'] == Departamento) & (data['tipo']=='Importado')]\n",
    "  select_department_tipo = data.loc[(data['departamento'] == Departamento) & (data['tipo']!='Importado')]\n",
    "  select_department_fallec = data.loc[(data['departamento'] == Departamento) & (data['atenci_n'] =='Fallecido')]\n",
    "  select_department_recup = data.loc[(data['departamento'] == Departamento) & (data['atenci_n'] =='Recuperado')]\n",
    "  select_department_hospit = data.loc[(data['departamento'] == Departamento) & (data['atenci_n'] =='Hospital')]\n",
    "  select_department_UCI = data.loc[(data['departamento'] == Departamento) & (data['atenci_n'] =='Hospital UCI')]\n",
    "  select_department_En_Casa = data.loc[(data['departamento'] == Departamento) & (data['atenci_n'] =='Casa')]\n",
    "  print('En departamento de ' + Departamento + ' hay: ')\n",
    "\n",
    "print('Casos Positivos = ' + str(select_department.shape[0]))\n",
    "print('Casos Importados  = ' + str(select_department_tipo_Imp.shape[0]))\n",
    "print('Casos Relacionados/en Estudio  = ' + str(select_department_tipo.shape[0]))\n",
    "print('Recuperados = ' + str(select_department_recup.shape[0]))\n",
    "print('En Casa = ' + str(select_department_En_Casa.shape[0]))\n",
    "print('Hospitalizados = ' + str(select_department_hospit.shape[0]))\n",
    "print('Hospitalizados/UCI = ' + str(select_department_UCI.shape[0]))\n",
    "print('Fallecidos = ' + str(select_department_fallec.shape[0]))\n",
    "print()\n",
    "dates_diaf = data.loc[(data['fis'] =='Asintomático')].to_numpy()\n",
    "if dates_diaf.size>0 :\n",
    "  data.loc[(data['fis'] =='Asintomático'),['fis']] = dates_diaf[:,1]\n",
    "  data.fis = pd.to_datetime(data.fis)\n",
    "\n",
    "df = select_department_tipo.groupby(by='fis').count()\n",
    "df_array = df.to_numpy()\n",
    "NI_infected_cases = df_array[:,0]\n",
    "Total_NI_infected_cases = np.cumsum(NI_infected_cases,0)\n",
    "time_vector = pd.to_datetime(df.index)\n",
    "#time_vector = datetime(df.index.to_numpy()).fromisoformat()\n",
    "tv = (time_vector-time_vector[0])\n",
    "cumulcases = Total_NI_infected_cases-Total_NI_infected_cases[0]+1\n",
    "\n",
    "\n",
    "\n",
    "# Pie chart, where the slices will be ordered and plotted counter-clockwise:\n",
    "labels = 'En Casa', 'Hospitalizados', 'Hospitalizados/UCI'\n",
    "sizes = [select_department_En_Casa.shape[0], select_department_hospit.shape[0], select_department_UCI.shape[0]]\n",
    "explode = (0, 0, 0.1)  # only \"explode\" the 2nd slice (i.e. 'UCI')\n",
    "\n",
    "fig1, ax1 = plt.subplots()\n",
    "ax1.pie(sizes, explode=explode, labels=labels, autopct='%1.1f%%',\n",
    "        shadow=True, startangle=90)\n",
    "ax1.axis('equal')  # Equal aspect ratio ensures that pie is drawn as a circle.\n",
    "plt.show()\n",
    "\n",
    "print('Reporte diario de contagio basado en fecha de inicio de síntomas')\n",
    "f, ax = plt.subplots(1,1,figsize=(10,4))\n",
    "ax.bar(time_vector.date,NI_infected_cases,align='edge')\n",
    "ax.set_xlabel('Fechas')\n",
    "ax.set_ylabel('Infectados (personas)')\n",
    "ax.yaxis.set_tick_params(length=0)\n",
    "ax.xaxis.set_tick_params(length=0)\n",
    "#ax.grid(b=True, which='major', c='w', lw=2, ls='-')\n",
    "#legend = ax.legend()\n",
    "#legend.get_frame().set_alpha(0.5)\n",
    "for spine in ('top', 'right', 'bottom', 'left'):\n",
    "      ax.spines[spine].set_visible(True)\n",
    "plt.show();\n",
    "print('Curva acumulada de contagios')\n",
    "f, ax = plt.subplots(1,1,figsize=(10,4))\n",
    "ax.bar(time_vector.date,cumulcases,align='edge')\n",
    "ax.set_xlabel('Fechas')\n",
    "ax.set_ylabel('Infectados (personas)')\n",
    "ax.yaxis.set_tick_params(length=0)\n",
    "ax.xaxis.set_tick_params(length=0)\n",
    "#ax.grid(b=True, which='major', c='w', lw=2, ls='-')\n",
    "#legend = ax.legend()\n",
    "#legend.get_frame().set_alpha(0.5)\n",
    "for spine in ('top', 'right', 'bottom', 'left'):\n",
    "      ax.spines[spine].set_visible(True)\n",
    "plt.show();\n",
    "\n",
    "\n",
    "f, ax = plt.subplots(1,1,figsize=(10,4))\n",
    "ax.plot(time_vector.date,np.log(cumulcases))\n",
    "ax.set_xlabel('Fechas')\n",
    "ax.set_ylabel('$\\log(Infectados)$')\n",
    "ax.yaxis.set_tick_params(length=0)\n",
    "ax.xaxis.set_tick_params(length=0)\n",
    "#ax.grid(b=True, which='major', c='w', lw=2, ls='-')\n",
    "#legend = ax.legend()\n",
    "#legend.get_frame().set_alpha(0.5)\n",
    "for spine in ('top', 'right', 'bottom', 'left'):\n",
    "      ax.spines[spine].set_visible(True)\n",
    "plt.show();\n",
    "Rtraw = 14.0*np.diff(np.log(cumulcases))+1\n",
    "Rfilt = sgnl.filtfilt([0.3333, 0.3333, 0.3333],[1.0],Rtraw)\n",
    "print('Visualización del R_t tasa de contagio')\n",
    "f, ax = plt.subplots(1,1,figsize=(10,4))\n",
    "ax.plot(time_vector.date[1:],Rtraw,color='green',label='$R_t$ diario')\n",
    "ax.plot(time_vector.date[1:],Rfilt,color='red',label='$R_t$ suavizado')\n",
    "ax.plot([time_vector.date[0],time_vector.date[-1]], [1,1 ],'b--',label='$R_t=1$')\n",
    "ax.set_xlabel('Fechas')\n",
    "ax.set_ylabel('$R_t$')\n",
    "ax.yaxis.set_tick_params(length=0)\n",
    "ax.xaxis.set_tick_params(length=0)\n",
    "ax.grid(b=True, which='major', c='w', lw=2, ls='-')\n",
    "legend = ax.legend()\n",
    "legend.get_frame().set_alpha(0.5)\n",
    "for spine in ('top', 'right', 'bottom', 'left'):\n",
    "      ax.spines[spine].set_visible(True)\n",
    "plt.show();"
   ]
  }
 ],
 "metadata": {
  "kernelspec": {
   "display_name": "Python 3.7.7 64-bit",
   "language": "python",
   "name": "python37764bit783257d7ce1c449e9073c7d11d1f458d"
  },
  "language_info": {
   "codemirror_mode": {
    "name": "ipython",
    "version": 3
   },
   "file_extension": ".py",
   "mimetype": "text/x-python",
   "name": "python",
   "nbconvert_exporter": "python",
   "pygments_lexer": "ipython3",
   "version": "3.7.7"
  }
 },
 "nbformat": 4,
 "nbformat_minor": 4
}
