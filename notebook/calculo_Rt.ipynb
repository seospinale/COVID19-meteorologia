{
 "cells": [
  {
   "cell_type": "markdown",
   "metadata": {},
   "source": [
    "# Transmission rate calculation"
   ]
  },
  {
   "cell_type": "code",
   "execution_count": 1,
   "metadata": {},
   "outputs": [
    {
     "output_type": "error",
     "ename": "ModuleNotFoundError",
     "evalue": "No module named 'functions'",
     "traceback": [
      "\u001b[1;31m---------------------------------------------------------------------------\u001b[0m",
      "\u001b[1;31mModuleNotFoundError\u001b[0m                       Traceback (most recent call last)",
      "\u001b[1;32m<ipython-input-1-20fce3bc2872>\u001b[0m in \u001b[0;36m<module>\u001b[1;34m\u001b[0m\n\u001b[0;32m      2\u001b[0m \u001b[1;31m# insert at 1, 0 is the script path (or '' in REPL)\u001b[0m\u001b[1;33m\u001b[0m\u001b[1;33m\u001b[0m\u001b[1;33m\u001b[0m\u001b[0m\n\u001b[0;32m      3\u001b[0m \u001b[0msys\u001b[0m\u001b[1;33m.\u001b[0m\u001b[0mpath\u001b[0m\u001b[1;33m.\u001b[0m\u001b[0minsert\u001b[0m\u001b[1;33m(\u001b[0m\u001b[1;36m1\u001b[0m\u001b[1;33m,\u001b[0m \u001b[1;34m'../src'\u001b[0m\u001b[1;33m)\u001b[0m\u001b[1;33m\u001b[0m\u001b[1;33m\u001b[0m\u001b[0m\n\u001b[1;32m----> 4\u001b[1;33m \u001b[1;32mimport\u001b[0m \u001b[0mfunctions\u001b[0m\u001b[1;33m\u001b[0m\u001b[1;33m\u001b[0m\u001b[0m\n\u001b[0m",
      "\u001b[1;31mModuleNotFoundError\u001b[0m: No module named 'functions'"
     ]
    }
   ],
   "source": [
    "import sys\n",
    "# insert at 1, 0 is the script path (or '' in REPL)\n",
    "sys.path.insert(1, '../src')\n",
    "import functions"
   ]
  },
  {
   "cell_type": "code",
   "execution_count": null,
   "metadata": {},
   "outputs": [],
   "source": []
  },
  {
   "cell_type": "code",
   "execution_count": 2,
   "metadata": {},
   "outputs": [
    {
     "output_type": "error",
     "ename": "NameError",
     "evalue": "name 'np' is not defined",
     "traceback": [
      "\u001b[1;31m---------------------------------------------------------------------------\u001b[0m",
      "\u001b[1;31mNameError\u001b[0m                                 Traceback (most recent call last)",
      "\u001b[1;32m<ipython-input-2-723f8a48c57c>\u001b[0m in \u001b[0;36m<module>\u001b[1;34m\u001b[0m\n\u001b[0;32m     12\u001b[0m \u001b[1;33m\u001b[0m\u001b[0m\n\u001b[0;32m     13\u001b[0m def rasterize(shapes, coords, latitude='latitude', longitude='longitude',\n\u001b[1;32m---> 14\u001b[1;33m               fill=np.nan, **kwargs):\n\u001b[0m\u001b[0;32m     15\u001b[0m     \"\"\"Rasterize a list of (geometry, fill_value) tuples onto the given\n\u001b[0;32m     16\u001b[0m     \u001b[0mxray\u001b[0m \u001b[0mcoordinates\u001b[0m\u001b[1;33m.\u001b[0m \u001b[0mThis\u001b[0m \u001b[0monly\u001b[0m \u001b[0mworks\u001b[0m \u001b[1;32mfor\u001b[0m \u001b[1;36m1\u001b[0m\u001b[0md\u001b[0m \u001b[0mlatitude\u001b[0m \u001b[1;32mand\u001b[0m \u001b[0mlongitude\u001b[0m\u001b[1;33m\u001b[0m\u001b[1;33m\u001b[0m\u001b[0m\n",
      "\u001b[1;31mNameError\u001b[0m: name 'np' is not defined"
     ]
    }
   ],
   "source": [
    "from rasterio import features\n",
    "from affine import Affine\n",
    "\n",
    "def transform_from_latlon(lat, lon):\n",
    "    \"\"\" input 1D array of lat / lon and output an Affine transformation\n",
    "    \"\"\"\n",
    "    lat = np.asarray(lat)\n",
    "    lon = np.asarray(lon)\n",
    "    trans = Affine.translation(lon[0], lat[0])\n",
    "    scale = Affine.scale(lon[1] - lon[0], lat[1] - lat[0])\n",
    "    return trans * scale\n",
    "\n",
    "def rasterize(shapes, coords, latitude='latitude', longitude='longitude',\n",
    "              fill=np.nan, **kwargs):\n",
    "    \"\"\"Rasterize a list of (geometry, fill_value) tuples onto the given\n",
    "    xray coordinates. This only works for 1d latitude and longitude\n",
    "    arrays.\n",
    "\n",
    "    usage:\n",
    "    -----\n",
    "    1. read shapefile to geopandas.GeoDataFrame\n",
    "          `states = gpd.read_file(shp_dir+shp_file)`\n",
    "    2. encode the different shapefiles that capture those lat-lons as different\n",
    "        numbers i.e. 0.0, 1.0 ... and otherwise np.nan\n",
    "          `shapes = (zip(states.geometry, range(len(states))))`\n",
    "    3. Assign this to a new coord in your original xarray.DataArray\n",
    "          `ds['states'] = rasterize(shapes, ds.coords, longitude='X', latitude='Y')`\n",
    "\n",
    "    arguments:\n",
    "    ---------\n",
    "    : **kwargs (dict): passed to `rasterio.rasterize` function\n",
    "\n",
    "    attrs:\n",
    "    -----\n",
    "    :transform (affine.Affine): how to translate from latlon to ...?\n",
    "    :raster (numpy.ndarray): use rasterio.features.rasterize fill the values\n",
    "      outside the .shp file with np.nan\n",
    "    :spatial_coords (dict): dictionary of {\"X\":xr.DataArray, \"Y\":xr.DataArray()}\n",
    "      with \"X\", \"Y\" as keys, and xr.DataArray as values\n",
    "\n",
    "    returns:\n",
    "    -------\n",
    "    :(xr.DataArray): DataArray with `values` of nan for points outside shapefile\n",
    "      and coords `Y` = latitude, 'X' = longitude.\n",
    "\n",
    "\n",
    "    \"\"\"\n",
    "    transform = transform_from_latlon(coords[latitude], coords[longitude])\n",
    "    out_shape = (len(coords[latitude]), len(coords[longitude]))\n",
    "    raster = features.rasterize(shapes, out_shape=out_shape,\n",
    "                                fill=fill, transform=transform,\n",
    "                                dtype=float, **kwargs)\n",
    "    spatial_coords = {latitude: coords[latitude], longitude: coords[longitude]}\n",
    "    return xr.DataArray(raster, coords=spatial_coords, dims=(latitude, longitude))\n",
    "\n",
    "def add_shape_coord_from_data_array(xr_da, shp_path, coord_name):\n",
    "    \"\"\" Create a new coord for the xr_da indicating whether or not it \n",
    "         is inside the shapefile\n",
    "\n",
    "        Creates a new coord - \"coord_name\" which will have integer values\n",
    "         used to subset xr_da for plotting / analysis/\n",
    "\n",
    "        Usage:\n",
    "        -----\n",
    "        precip_da = add_shape_coord_from_data_array(precip_da, \"awash.shp\", \"awash\")\n",
    "        awash_da = precip_da.where(precip_da.awash==0, other=np.nan) \n",
    "    \"\"\"\n",
    "    # 1. read in shapefile\n",
    "    shp_gpd = gpd.read_file(shp_path)\n",
    "\n",
    "    # 2. create a list of tuples (shapely.geometry, id)\n",
    "    #    this allows for many different polygons within a .shp file (e.g. States of US)\n",
    "    shapes = [(shape, n) for n, shape in enumerate(shp_gpd.geometry)]\n",
    "\n",
    "    # 3. create a new coord in the xr_da which will be set to the id in `shapes`\n",
    "    xr_da[coord_name] = rasterize(shapes, xr_da.coords, \n",
    "                               longitude='longitude', latitude='latitude')\n",
    "\n",
    "    return xr_da"
   ]
  },
  {
   "cell_type": "markdown",
   "metadata": {},
   "source": [
    "*\"El número básico de reproducción (R0), pretende ser un indicador del contagio o transmisibilidad de agentes infecciosos y parasitarios. R0 se encuentra a menudo en la bibliografía de epidemiología y salud pública y también se puede encontrar en la prensa popular. R0 se ha descrito como una de las métricas fundamentales y más utilizadas para el estudio de la dinámica de las enfermedades infecciosas. Un R0 para un evento de enfermedad infecciosa generalmente se informa como un valor numérico único o rango bajo-alto, y la interpretación generalmente se presenta como directa; se espera que continúe un brote si R0 tiene un valor >1  y que termine si R0 es  <1 . El tamaño potencial de un brote o epidemia a menudo se basa en la magnitud del valor R0 para ese evento, y R0 puede usarse para estimar la proporción de la población que debe vacunarse para eliminar una infección de esa población\"* Tomado de: Delamater PL, Street EJ, Leslie TF, Yang Y, Jacobsen KH. Complexity of the Basic Reproduction Number (R0). Emerg Infect Dis. 2019;25(1):1-4. https://dx.doi.org/10.3201/eid2501.171901"
   ]
  },
  {
   "cell_type": "code",
   "execution_count": 3,
   "metadata": {},
   "outputs": [],
   "source": [
    "import matplotlib.pyplot as plt\n",
    "%matplotlib inline\n"
   ]
  },
  {
   "cell_type": "code",
   "execution_count": null,
   "metadata": {},
   "outputs": [],
   "source": []
  },
  {
   "cell_type": "code",
   "execution_count": null,
   "metadata": {},
   "outputs": [],
   "source": [
    "https://www.datos.gov.co/resource/gt2j-8ykr.json"
   ]
  }
 ],
 "metadata": {
  "kernelspec": {
   "display_name": "Python 3.7.7 64-bit",
   "language": "julia",
   "name": "python37764bit783257d7ce1c449e9073c7d11d1f458d"
  },
  "language_info": {
   "file_extension": ".jl",
   "mimetype": "application/julia",
   "name": "julia",
   "version": "3.7.7-final"
  }
 },
 "nbformat": 4,
 "nbformat_minor": 4
}