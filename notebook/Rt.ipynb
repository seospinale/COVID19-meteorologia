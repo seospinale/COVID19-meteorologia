{
 "cells": [
  {
   "cell_type": "code",
   "execution_count": 8,
   "metadata": {},
   "outputs": [],
   "source": [
    "using Plots\n",
    "using CSV\n",
    "import JSON"
   ]
  },
  {
   "cell_type": "markdown",
   "metadata": {},
   "source": [
    "*\"El número básico de reproducción (R0), pretende ser un indicador del contagio o transmisibilidad de agentes infecciosos y parasitarios. R0 se encuentra a menudo en la bibliografía de epidemiología y salud pública y también se puede encontrar en la prensa popular. R0 se ha descrito como una de las métricas fundamentales y más utilizadas para el estudio de la dinámica de las enfermedades infecciosas. Un R0 para un evento de enfermedad infecciosa generalmente se informa como un valor numérico único o rango bajo-alto, y la interpretación generalmente se presenta como directa; se espera que continúe un brote si R0 tiene un valor >1  y que termine si R0 es  <1 . El tamaño potencial de un brote o epidemia a menudo se basa en la magnitud del valor R0 para ese evento, y R0 puede usarse para estimar la proporción de la población que debe vacunarse para eliminar una infección de esa población\"* Tomado de: Delamater PL, Street EJ, Leslie TF, Yang Y, Jacobsen KH. Complexity of the Basic Reproduction Number (R0). Emerg Infect Dis. 2019;25(1):1-4. https://dx.doi.org/10.3201/eid2501.171901"
   ]
  },
  {
   "cell_type": "code",
   "execution_count": 7,
   "metadata": {},
   "outputs": [],
   "source": []
  },
  {
   "cell_type": "code",
   "execution_count": null,
   "metadata": {},
   "outputs": [],
   "source": [
    "https://www.datos.gov.co/resource/gt2j-8ykr.json"
   ]
  }
 ],
 "metadata": {
  "kernelspec": {
   "display_name": "Julia 1.4.1",
   "language": "julia",
   "name": "julia-1.4"
  },
  "language_info": {
   "file_extension": ".jl",
   "mimetype": "application/julia",
   "name": "julia",
   "version": "1.4.1"
  }
 },
 "nbformat": 4,
 "nbformat_minor": 4
}
